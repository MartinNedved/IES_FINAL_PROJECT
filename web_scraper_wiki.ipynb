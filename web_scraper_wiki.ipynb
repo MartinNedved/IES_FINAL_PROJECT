{
 "cells": [
  {
   "cell_type": "markdown",
   "metadata": {},
   "source": [
    "# Web Scraper - Wikipedia\n",
    "\n",
    "This module scrapes wikipedia page containing list of S&P 500 companies \n",
    "\n",
    "https://en.wikipedia.org/wiki/List_of_S%26P_500_companies#Selected_changes_to_the_list_of_S&P_500_components\n",
    "\n",
    "And creates json file of years as keys and list of S&P500 companies tickers as values"
   ]
  },
  {
   "cell_type": "code",
   "execution_count": 3,
   "metadata": {},
   "outputs": [],
   "source": [
    "import requests\n",
    "from bs4 import BeautifulSoup\n",
    "\n",
    "import pandas as pd\n",
    "import time\n",
    "from datetime import datetime"
   ]
  },
  {
   "cell_type": "code",
   "execution_count": 50,
   "metadata": {},
   "outputs": [],
   "source": [
    "class Wiki_sp500_scraper:\n",
    "    \"\"\"\n",
    "    Scrapes wiki and saves timeseries of sp500 stocks to a json file\n",
    "    \"\"\"\n",
    "    \n",
    "    def __init__(self, json_save_path):\n",
    "        self.json_save_path = json_save_path\n",
    "        url = 'https://en.wikipedia.org/wiki/List_of_S%26P_500_companies#Selected_changes_to_the_list_of_S&P_500_components'\n",
    "        \n",
    "        r = requests.get(url)\n",
    "        counter = 10\n",
    "        while r.status_code != 200 and counter > 0:\n",
    "            counter -= 1\n",
    "            time.sleep(0.2)\n",
    "            r = requests.get(url)\n",
    "           \n",
    "        self.soup = BeautifulSoup(r.content, 'html.parser')\n",
    "    \n",
    "    def scrape_stocks_table(self):\n",
    "        table = self.soup.find('table', id='constituents')\n",
    "        self.tickers = []\n",
    "        \n",
    "        for tr in table.find_all('tr'):\n",
    "            row = tr.find_all('td')\n",
    "            if len(row) > 0:\n",
    "                self.tickers.append(row[0].text.replace('\\n', ''))\n",
    "    \n",
    "    def scrape_changes_table(self):\n",
    "        table = self.soup.find('table', id='changes')\n",
    "        self.changes_table = {}\n",
    "        \n",
    "        for tr in table.find_all('tr'):\n",
    "            row = tr.find_all('td')\n",
    "            if len(row) > 4:\n",
    "                try:\n",
    "                    date = datetime.strptime(row[0].text, '%B %d, %Y')\n",
    "                except ValueError:\n",
    "                    break\n",
    "                \n",
    "                if date not in self.changes_table:\n",
    "                    self.changes_table[date] = {'A': [], 'R': []}\n",
    "                    \n",
    "                self.changes_table[date]['A'].append(row[1].text)\n",
    "                self.changes_table[date]['R'].append(row[3].text)\n",
    "            \n",
    "    \n",
    "    def create_timeseries_of_sp500_stocks(self):\n",
    "        pass\n",
    "    \n",
    "    def save_to_json(self):\n",
    "        pass\n",
    "    \n",
    "    def run(self):\n",
    "        self.scrape_stocks_table()\n",
    "        self.scrape_changes_table()\n",
    "        self.create_timeseries_of_sp500_stocks()\n",
    "        self.save_to_json()\n",
    "    \n",
    "    \n",
    "    "
   ]
  },
  {
   "cell_type": "code",
   "execution_count": 51,
   "metadata": {},
   "outputs": [
    {
     "name": "stdout",
     "output_type": "stream",
     "text": [
      "{datetime.datetime(2020, 10, 12, 0, 0): {'A': [''], 'R': ['NBL']}, datetime.datetime(2020, 10, 9, 0, 0): {'A': ['VNT'], 'R': ['']}, datetime.datetime(2020, 10, 7, 0, 0): {'A': ['POOL'], 'R': ['ETFC']}, datetime.datetime(2020, 9, 21, 0, 0): {'A': ['ETSY', 'TER', 'CTLT'], 'R': ['HRB', 'COTY', 'KSS']}, datetime.datetime(2020, 6, 22, 0, 0): {'A': ['BIO', 'TDY', 'TYL'], 'R': ['ADS', 'HOG', 'JWN']}, datetime.datetime(2020, 5, 22, 0, 0): {'A': ['WST'], 'R': ['HP']}, datetime.datetime(2020, 5, 12, 0, 0): {'A': ['DPZ', 'DXCM'], 'R': ['CPRI', 'AGN']}, datetime.datetime(2020, 4, 6, 0, 0): {'A': ['', ''], 'R': ['M', 'RTN']}, datetime.datetime(2020, 4, 3, 0, 0): {'A': ['OTIS', 'CARR'], 'R': ['', '']}, datetime.datetime(2020, 3, 3, 0, 0): {'A': ['GDI'], 'R': ['XEC']}, datetime.datetime(2020, 1, 28, 0, 0): {'A': ['PAYC'], 'R': ['WCG']}, datetime.datetime(2019, 12, 23, 0, 0): {'A': ['LYV', 'ZBRA', 'STE'], 'R': ['AMG', 'TRIP', 'MAC']}, datetime.datetime(2019, 12, 9, 0, 0): {'A': ['ODFL'], 'R': ['STI']}, datetime.datetime(2019, 12, 5, 0, 0): {'A': ['WRB'], 'R': ['VIAB']}, datetime.datetime(2019, 11, 21, 0, 0): {'A': ['NOW'], 'R': ['CELG']}, datetime.datetime(2019, 10, 3, 0, 0): {'A': ['LVS'], 'R': ['NKTR']}, datetime.datetime(2019, 9, 26, 0, 0): {'A': ['NVR'], 'R': ['JEF']}, datetime.datetime(2019, 9, 23, 0, 0): {'A': ['CDW'], 'R': ['TSS']}, datetime.datetime(2019, 8, 9, 0, 0): {'A': ['LDOS', 'IEX'], 'R': ['APC', 'FL']}, datetime.datetime(2019, 7, 15, 0, 0): {'A': ['TMUS'], 'R': ['RHT']}, datetime.datetime(2019, 7, 1, 0, 0): {'A': ['MKTX'], 'R': ['LLL']}, datetime.datetime(2019, 6, 7, 0, 0): {'A': ['BMS'], 'R': ['MAT']}, datetime.datetime(2019, 6, 3, 0, 0): {'A': ['CTVA'], 'R': ['FLR']}, datetime.datetime(2019, 4, 2, 0, 0): {'A': ['DOW'], 'R': ['BHF']}, datetime.datetime(2019, 2, 27, 0, 0): {'A': ['WAB'], 'R': ['GT']}, datetime.datetime(2019, 2, 15, 0, 0): {'A': ['ATO'], 'R': ['NFX']}, datetime.datetime(2019, 1, 18, 0, 0): {'A': ['TFX'], 'R': ['PCG']}, datetime.datetime(2019, 1, 2, 0, 0): {'A': ['FRC'], 'R': ['SCG']}, datetime.datetime(2018, 12, 24, 0, 0): {'A': ['CE'], 'R': ['ESRX']}, datetime.datetime(2018, 12, 3, 0, 0): {'A': ['LW', 'MXIM', 'FANG'], 'R': ['COL', 'AET', 'SRCL']}, datetime.datetime(2018, 11, 13, 0, 0): {'A': ['JKHY'], 'R': ['EQT']}, datetime.datetime(2018, 11, 6, 0, 0): {'A': ['KEYS'], 'R': ['CA']}, datetime.datetime(2018, 10, 11, 0, 0): {'A': ['FTNT'], 'R': ['EVHC']}, datetime.datetime(2018, 10, 1, 0, 0): {'A': ['ROL'], 'R': ['ANDV']}, datetime.datetime(2018, 9, 14, 0, 0): {'A': ['WCG'], 'R': ['XL']}, datetime.datetime(2018, 8, 28, 0, 0): {'A': ['ANET'], 'R': ['GGP']}, datetime.datetime(2018, 7, 2, 0, 0): {'A': ['CPRT'], 'R': ['DPS']}, datetime.datetime(2018, 6, 20, 0, 0): {'A': ['FLT'], 'R': ['TWX']}, datetime.datetime(2018, 6, 18, 0, 0): {'A': ['BR', 'HFC'], 'R': ['RRC', 'AYI']}, datetime.datetime(2018, 6, 7, 0, 0): {'A': ['TWTR'], 'R': ['MON']}, datetime.datetime(2018, 6, 5, 0, 0): {'A': ['EVRG'], 'R': ['NAVI']}, datetime.datetime(2018, 5, 31, 0, 0): {'A': ['ABMD'], 'R': ['WYN']}, datetime.datetime(2018, 4, 4, 0, 0): {'A': ['MSCI'], 'R': ['CSRA']}, datetime.datetime(2018, 3, 19, 0, 0): {'A': ['TTWO', 'SIVB', 'NKTR'], 'R': ['SIG', 'PDCO', 'CHK']}, datetime.datetime(2018, 3, 7, 0, 0): {'A': ['IPGP'], 'R': ['SNI']}, datetime.datetime(2018, 1, 3, 0, 0): {'A': ['HII'], 'R': ['BCR']}, datetime.datetime(2017, 10, 13, 0, 0): {'A': ['NCLH'], 'R': ['LVLT']}, datetime.datetime(2017, 9, 18, 0, 0): {'A': ['CDNS'], 'R': ['SPLS']}, datetime.datetime(2017, 9, 1, 0, 0): {'A': ['SBAC'], 'R': ['DD']}, datetime.datetime(2017, 8, 29, 0, 0): {'A': ['Q'], 'R': ['WFM']}, datetime.datetime(2017, 8, 8, 0, 0): {'A': ['BHF'], 'R': ['AN']}, datetime.datetime(2017, 7, 26, 0, 0): {'A': ['DRE', 'AOS', 'PKG', 'RMD', 'MGM'], 'R': ['RIG', 'BBBY', 'MUR', 'MNK', 'RAI']}, datetime.datetime(2017, 6, 19, 0, 0): {'A': ['HLT', 'ALGN', 'ANSS', 'RE'], 'R': ['YHOO', 'TDC', 'R', 'MJN']}, datetime.datetime(2017, 6, 2, 0, 0): {'A': ['INFO'], 'R': ['TGNA']}, datetime.datetime(2017, 4, 5, 0, 0): {'A': ['IT'], 'R': ['DNB']}, datetime.datetime(2017, 4, 4, 0, 0): {'A': ['DXC'], 'R': ['SWN']}, datetime.datetime(2017, 3, 20, 0, 0): {'A': ['AMD', 'RJF', 'ARE'], 'R': ['URBN', 'FTR', 'FSLR']}, datetime.datetime(2017, 3, 16, 0, 0): {'A': ['SNPS'], 'R': ['HAR']}, datetime.datetime(2017, 3, 13, 0, 0): {'A': ['DISH'], 'R': ['LLTC']}, datetime.datetime(2017, 3, 2, 0, 0): {'A': ['REG'], 'R': ['ENDP']}, datetime.datetime(2017, 3, 1, 0, 0): {'A': ['CBOE'], 'R': ['PBI']}, datetime.datetime(2017, 2, 28, 0, 0): {'A': ['INCY'], 'R': ['SE']}, datetime.datetime(2017, 1, 5, 0, 0): {'A': ['IDXX'], 'R': ['STJ']}, datetime.datetime(2016, 12, 2, 0, 0): {'A': ['MAA', 'EVHC'], 'R': ['OI', 'LM']}}\n"
     ]
    }
   ],
   "source": [
    "Wiki_sp500_scraper(\"dsadsa\").scrape_changes_table()"
   ]
  },
  {
   "cell_type": "code",
   "execution_count": null,
   "metadata": {},
   "outputs": [],
   "source": []
  },
  {
   "cell_type": "code",
   "execution_count": null,
   "metadata": {},
   "outputs": [],
   "source": []
  }
 ],
 "metadata": {
  "kernelspec": {
   "display_name": "Python 3",
   "language": "python",
   "name": "python3"
  },
  "language_info": {
   "codemirror_mode": {
    "name": "ipython",
    "version": 3
   },
   "file_extension": ".py",
   "mimetype": "text/x-python",
   "name": "python",
   "nbconvert_exporter": "python",
   "pygments_lexer": "ipython3",
   "version": "3.8.3"
  }
 },
 "nbformat": 4,
 "nbformat_minor": 4
}
