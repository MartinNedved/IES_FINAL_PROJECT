{
 "cells": [
  {
   "cell_type": "code",
   "execution_count": null,
   "metadata": {},
   "outputs": [],
   "source": [
    "list_notfound_tickers=['NOVL', 'TLAB', 'PTV', 'KFT', 'SBL', 'SLR', 'TSO', 'ABS', 'MI', 'RX', 'EK', 'DV', 'KSE', 'EP', 'ABK', 'TE', 'GR', 'BF.B', 'FNM', 'BMC', 'CBE', 'GENZ', 'BS','TYC', 'QTRN', 'DJ', 'SLE', 'GLK', 'LEH', 'AV', 'MOLX', 'WIN', 'CEPH', 'MEE', 'WFR', 'SAI', 'TRB', 'LDW', 'SGP', 'FRE']\n",
    "\n",
    "print(len(list_notfound_tickers))\n",
    "print(755-len(list_notfound_tickers))"
   ]
  }
 ],
 "metadata": {
  "kernelspec": {
   "display_name": "Python 3",
   "language": "python",
   "name": "python3"
  },
  "language_info": {
   "codemirror_mode": {
    "name": "ipython",
    "version": 3
   },
   "file_extension": ".py",
   "mimetype": "text/x-python",
   "name": "python",
   "nbconvert_exporter": "python",
   "pygments_lexer": "ipython3",
   "version": "3.8.3"
  }
 },
 "nbformat": 4,
 "nbformat_minor": 4
}
