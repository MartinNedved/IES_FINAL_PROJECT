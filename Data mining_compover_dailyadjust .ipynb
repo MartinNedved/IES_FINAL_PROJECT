{
 "cells": [
  {
   "cell_type": "markdown",
   "metadata": {},
   "source": [
    "# Web mining Aplha Vantage\n",
    "\n",
    "https://www.alphavantage.co/\n",
    "\n",
    "This module mines data in json and converts them with pandas into 2 json files - overview of each company and time series of the price for each stock"
   ]
  },
  {
   "cell_type": "code",
   "execution_count": 73,
   "metadata": {},
   "outputs": [
    {
     "name": "stdout",
     "output_type": "stream",
     "text": [
      "{'Symbol': 'MSFT', 'AssetType': 'Common Stock', 'Name': 'Microsoft Corporation', 'Description': 'Microsoft Corporation develops, licenses, and supports software, services, devices, and solutions worldwide. Its Productivity and Business Processes segment offers Office, Exchange, SharePoint, Microsoft Teams, Office 365 Security and Compliance, and Skype for Business, as well as related Client Access Licenses (CAL); Skype, Outlook.com, OneDrive, and LinkedIn; and Dynamics 365, a set of cloud-based and on-premises business solutions for small and medium businesses, large organizations, and divisions of enterprises. Its Intelligent Cloud segment licenses SQL and Windows Servers, Visual Studio, System Center, and related CALs; GitHub that provides a collaboration platform and code hosting service for developers; and Azure, a cloud platform. It also offers support services and Microsoft consulting services to assist customers in developing, deploying, and managing Microsoft server and desktop solutions; and training and certification to developers and IT professionals on various Microsoft products. Its More Personal Computing segment provides Windows original equipment manufacturer (OEM) licensing and other non-volume licensing of the Windows operating system; Windows Commercial, such as volume licensing of the Windows operating system, Windows cloud services, and other Windows commercial offerings; patent licensing; Windows Internet of Things; and MSN advertising. It also offers Surface, PC accessories, PCs, tablets, gaming and entertainment consoles, and other devices; Gaming, including Xbox hardware, and Xbox content and services; video games and third-party video game royalties; and Search, including Bing and Microsoft advertising. It sells its products through OEMs, distributors, and resellers; and directly through digital marketplaces, online stores, and retail stores. It has a strategic collaboration with DXC Technology. The company was founded in 1975 and is headquartered in Redmond, Washington.', 'Exchange': 'NASDAQ', 'Currency': 'USD', 'Country': 'USA', 'Sector': 'Technology', 'Industry': 'Software-Infrastructure', 'Address': 'One Microsoft Way, Redmond, WA, United States, 98052-6399', 'FullTimeEmployees': '163000', 'FiscalYearEnd': 'June', 'LatestQuarter': '2020-09-30', 'MarketCapitalization': '1652649754624', 'EBITDA': '68123000832', 'PERatio': '35.2621', 'PEGRatio': '2.5265', 'BookValue': '16.313', 'DividendPerShare': '2.24', 'DividendYield': '0.0102', 'EPS': '6.199', 'RevenuePerShareTTM': '19.375', 'ProfitMargin': '0.3229', 'OperatingMarginTTM': '0.3817', 'ReturnOnAssetsTTM': '0.121', 'ReturnOnEquityTTM': '0.414', 'RevenueTTM': '147114000384', 'GrossProfitTTM': '96937000000', 'DilutedEPSTTM': '6.199', 'QuarterlyEarningsGrowthYOY': '0.319', 'QuarterlyRevenueGrowthYOY': '0.124', 'AnalystTargetPrice': '239.91', 'TrailingPE': '35.2621', 'ForwardPE': '32.4675', 'PriceToSalesRatioTTM': '11.3887', 'PriceToBookRatio': '13.3935', 'EVToRevenue': '10.7806', 'EVToEBITDA': '22.1855', 'Beta': '0.8231', '52WeekHigh': '232.2519', '52WeekLow': '131.489', '50DayMovingAverage': '214.198', '200DayMovingAverage': '209.055', 'SharesOutstanding': '7560500224', 'SharesFloat': '7449961518', 'SharesShort': '39002778', 'SharesShortPriorMonth': '34066185', 'ShortRatio': '1.34', 'ShortPercentOutstanding': '0.01', 'ShortPercentFloat': '0.0052', 'PercentInsiders': '0.059', 'PercentInstitutions': '71.889', 'ForwardAnnualDividendRate': '2.24', 'ForwardAnnualDividendYield': '0.0102', 'PayoutRatio': '0.3376', 'DividendDate': '2021-03-11', 'ExDividendDate': '2021-02-17', 'LastSplitFactor': '2:1', 'LastSplitDate': '2003-02-18'}\n",
      "{'Symbol': 'IBM', 'AssetType': 'Common Stock', 'Name': 'International Business Machines Corporation', 'Description': \"International Business Machines Corporation provides integrated solutions and services worldwide. Its Cloud & Cognitive Software segment offers software for vertical and domain-specific solutions in health, financial services, and Internet of Things (IoT), weather, and security software and services application areas; and customer information control system and storage, and analytics and integration software solutions to support client mission critical on-premise workloads in banking, airline, and retail industries. It also offers middleware and data platform software, including Red Hat that enables the operation of clients' hybrid multi-cloud environments; and Cloud Paks, WebSphere distributed, and analytics platform software, such as DB2 distributed, information integration, and enterprise content management, as well as IoT, Blockchain and AI/Watson platforms. The company's Global Business Services segment offers business consulting services; system integration, application management, maintenance, and support services for packaged software; finance, procurement, talent and engagement, and industry-specific business process outsourcing services; and IT infrastructure and platform services. Its Global Technology Services segment provides project, managed, outsourcing, and cloud-delivered services for enterprise IT infrastructure environments; and IT infrastructure support services. The company's Systems segment offers servers for businesses, cloud service providers, and scientific computing organizations; data storage products and solutions; and z/OS, an enterprise operating system, as well as Linux. Its Global Financing segment provides lease, installment payment, loan financing, short-term working capital financing, and remanufacturing and remarketing services. The company was formerly known as Computing-Tabulating-Recording Co. The company was founded in 1911 and is headquartered in Armonk, New York.\", 'Exchange': 'NYSE', 'Currency': 'USD', 'Country': 'USA', 'Sector': 'Technology', 'Industry': 'Information Technology Services', 'Address': 'One New Orchard Road, Armonk, NY, United States, 10504', 'FullTimeEmployees': '352600', 'FiscalYearEnd': 'December', 'LatestQuarter': '2020-09-30', 'MarketCapitalization': '112139526144', 'EBITDA': '15690000384', 'PERatio': '14.2639', 'PEGRatio': '9.2265', 'BookValue': '23.801', 'DividendPerShare': '6.52', 'DividendYield': '0.0518', 'EPS': '8.823', 'RevenuePerShareTTM': '84.402', 'ProfitMargin': '0.1053', 'OperatingMarginTTM': '0.1205', 'ReturnOnAssetsTTM': '0.0372', 'ReturnOnEquityTTM': '0.401', 'RevenueTTM': '75030003712', 'GrossProfitTTM': '36489000000', 'DilutedEPSTTM': '8.823', 'QuarterlyEarningsGrowthYOY': '0.011', 'QuarterlyRevenueGrowthYOY': '-0.026', 'AnalystTargetPrice': '137.13', 'TrailingPE': '14.2639', 'ForwardPE': '10.6157', 'PriceToSalesRatioTTM': '1.4828', 'PriceToBookRatio': '5.2212', 'EVToRevenue': '2.2061', 'EVToEBITDA': '10.8101', 'Beta': '1.2399', '52WeekHigh': '150.8394', '52WeekLow': '86.9458', '50DayMovingAverage': '120.4683', '200DayMovingAverage': '122.1892', 'SharesOutstanding': '891057024', 'SharesFloat': '889720530', 'SharesShort': '22028993', 'SharesShortPriorMonth': '24559462', 'ShortRatio': '4.14', 'ShortPercentOutstanding': '0.02', 'ShortPercentFloat': '0.0247', 'PercentInsiders': '0.116', 'PercentInstitutions': '58.594', 'ForwardAnnualDividendRate': '6.52', 'ForwardAnnualDividendYield': '0.0518', 'PayoutRatio': '0.5756', 'DividendDate': '2020-12-10', 'ExDividendDate': '2020-11-09', 'LastSplitFactor': '2:1', 'LastSplitDate': '1999-05-27'}\n"
     ]
    },
    {
     "ename": "KeyboardInterrupt",
     "evalue": "",
     "output_type": "error",
     "traceback": [
      "\u001b[1;31m---------------------------------------------------------------------------\u001b[0m",
      "\u001b[1;31mKeyboardInterrupt\u001b[0m                         Traceback (most recent call last)",
      "\u001b[1;32m<ipython-input-73-70aa0b52b95f>\u001b[0m in \u001b[0;36m<module>\u001b[1;34m\u001b[0m\n\u001b[0;32m     67\u001b[0m                 \u001b[0mjson_overview\u001b[0m\u001b[1;33m=\u001b[0m\u001b[0murl_def_overview\u001b[0m\u001b[1;33m(\u001b[0m\u001b[0mapi_key\u001b[0m\u001b[1;33m[\u001b[0m\u001b[0mj\u001b[0m\u001b[1;33m]\u001b[0m\u001b[1;33m,\u001b[0m\u001b[0mticker\u001b[0m\u001b[1;33m)\u001b[0m\u001b[1;33m\u001b[0m\u001b[1;33m\u001b[0m\u001b[0m\n\u001b[0;32m     68\u001b[0m                 \u001b[0mprint\u001b[0m\u001b[1;33m(\u001b[0m\u001b[0mjson_overview\u001b[0m\u001b[1;33m)\u001b[0m\u001b[1;33m\u001b[0m\u001b[1;33m\u001b[0m\u001b[0m\n\u001b[1;32m---> 69\u001b[1;33m                 \u001b[0mtime\u001b[0m\u001b[1;33m.\u001b[0m\u001b[0msleep\u001b[0m\u001b[1;33m(\u001b[0m\u001b[1;36m13\u001b[0m\u001b[1;33m)\u001b[0m\u001b[1;33m\u001b[0m\u001b[1;33m\u001b[0m\u001b[0m\n\u001b[0m\u001b[0;32m     70\u001b[0m \u001b[1;33m\u001b[0m\u001b[0m\n\u001b[0;32m     71\u001b[0m                 \u001b[0mcompany_overview_list\u001b[0m\u001b[1;33m[\u001b[0m\u001b[0mticker\u001b[0m\u001b[1;33m]\u001b[0m \u001b[1;33m=\u001b[0m \u001b[0mjson_overview\u001b[0m\u001b[1;33m\u001b[0m\u001b[1;33m\u001b[0m\u001b[0m\n",
      "\u001b[1;31mKeyboardInterrupt\u001b[0m: "
     ]
    }
   ],
   "source": [
    "\n",
    "import requests\n",
    "import json\n",
    "import pandas as pd\n",
    "from bs4 import BeautifulSoup\n",
    "import time\n",
    "import copy\n",
    "import pickle\n",
    "\n",
    "\n",
    "list_tickers=['MSFT','IBM','INTC','AAPL','NIO']\n",
    "list_tickers_2=copy.deepcopy(list_tickers) \n",
    "\n",
    "\n",
    "with open(file_name,'rb') as my_file_obj:\n",
    "    api_key=pickle.load(my_file_obj) \n",
    "\n",
    "\n",
    "def url_def_series(api,ticker):\n",
    "    \n",
    "    url=f'https://www.alphavantage.co/query?function=TIME_SERIES_DAILY_ADJUSTED&symbol={ticker}&outputsize=full&apikey={api}'\n",
    "    text_html=requests.get(url)\n",
    "    return(text_html.json())\n",
    "\n",
    "def url_def_overview(api,ticker):\n",
    "    \n",
    "    url=f'https://www.alphavantage.co/query?function=OVERVIEW&symbol={ticker}&apikey={api}'\n",
    "    text_html=requests.get(url)\n",
    "    return(text_html.json())\n",
    "    \n",
    "\n",
    "company_overview_list={}\n",
    "daily_adjusted_stock_timeseries={}\n",
    "\n",
    "len_tic=len(list_tickers)\n",
    "ticker=''\n",
    "json_timeseries=''\n",
    "json_overview=''\n",
    "\n",
    "\n",
    "for i in range((round(len_tic/3))+1):\n",
    "    \n",
    "\n",
    "    for j in range(len(api_key)):\n",
    "            if len(list_tickers)!=0:\n",
    "                \n",
    "                ticker=list_tickers.pop(0)\n",
    "                json_timeseries=url_def_series(api_key[j],ticker)\n",
    "                \n",
    "                time.sleep(13)\n",
    "             \n",
    "                daily_adjusted_stock_timeseries[ticker] = json_timeseries\n",
    "            \n",
    "            \n",
    "            else:\n",
    "                break\n",
    "                \n",
    "\n",
    "for i in range((round(len_tic/3))+1):\n",
    "    \n",
    "\n",
    "    for j in range(len(api_key)):\n",
    "        \n",
    "            if len(list_tickers_2)!=0:\n",
    "                \n",
    "                ticker=list_tickers_2.pop(0)\n",
    "                \n",
    "                json_overview=url_def_overview(api_key[j],ticker)\n",
    "                \n",
    "                time.sleep(13)\n",
    "             \n",
    "                company_overview_list[ticker] = json_overview\n",
    "            \n",
    "            else:\n",
    "                break\n",
    "                \n",
    "\n",
    "#print(company_overview_list)\n",
    "#print(daily_adjusted_stock_timeseries)\n",
    "                \n",
    "                \n",
    "                \n",
    "                \n",
    "\n",
    "#price_data = raw_data['Time Series (Daily)']\n",
    "\n",
    "#print(price_data)\n",
    "\n",
    "# price_data = data['Time Series (15min)']\n",
    "\n",
    "# for key, value in price_data.items():\n",
    "\n",
    "# for inner_key, inner_value in value.items():\n",
    " \n",
    "# price = value['4. close']\n",
    "\n",
    "# myDict[key] = price\n",
    "\n",
    "\n",
    "\n"
   ]
  },
  {
   "cell_type": "code",
   "execution_count": null,
   "metadata": {},
   "outputs": [],
   "source": []
  },
  {
   "cell_type": "code",
   "execution_count": null,
   "metadata": {},
   "outputs": [],
   "source": []
  }
 ],
 "metadata": {
  "kernelspec": {
   "display_name": "Python 3",
   "language": "python",
   "name": "python3"
  },
  "language_info": {
   "codemirror_mode": {
    "name": "ipython",
    "version": 3
   },
   "file_extension": ".py",
   "mimetype": "text/x-python",
   "name": "python",
   "nbconvert_exporter": "python",
   "pygments_lexer": "ipython3",
   "version": "3.8.3"
  }
 },
 "nbformat": 4,
 "nbformat_minor": 4
}
