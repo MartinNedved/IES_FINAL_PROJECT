{
 "cells": [
  {
   "cell_type": "code",
   "execution_count": 79,
   "metadata": {},
   "outputs": [],
   "source": [
    "import pandas as pd\n",
    "import json\n",
    "\n",
    "import time\n",
    "from datetime import datetime"
   ]
  },
  {
   "cell_type": "code",
   "execution_count": 63,
   "metadata": {},
   "outputs": [],
   "source": [
    "path = 'C:/Users/Martin/Desktop/data_python/data_python_conda/'\n",
    "\n",
    "with open(path+'timeseries.json') as json_data:\n",
    "    data = json.load(json_data)\n",
    "\n",
    "timeseries = pd.DataFrame.from_dict(data, orient='index').T"
   ]
  },
  {
   "cell_type": "code",
   "execution_count": 92,
   "metadata": {},
   "outputs": [],
   "source": [
    "# Vytvori dictionari vsech akcii a jejich mesicni adjusted ceny\n",
    "below_cat = pd.read_json(path+'monthly_adjusted_stock_timeseries_below-CAT.json').T\n",
    "above_cat = pd.read_json(path+'monthly_adjusted_stock_timeseries_above-CAT.json').T\n",
    "\n",
    "all_stocks = pd.concat([below_cat, above_cat])\n",
    "all_stocks = all_stocks.sort_index().T"
   ]
  },
  {
   "cell_type": "code",
   "execution_count": 88,
   "metadata": {
    "scrolled": false
   },
   "outputs": [],
   "source": [
    "# Zmerguje timeseries s cenami akcii\n",
    "for year in timeseries:\n",
    "    for company in timeseries[year]:\n",
    "        \n",
    "        try:\n",
    "            temp = {}\n",
    "            for date, information in all_stocks[company]['Monthly Adjusted Time Series'].items():\n",
    "                date = datetime.strptime(date, '%Y-%m-%d')\n",
    "                if date.year != int(year):\n",
    "                    continue\n",
    "                elif date.year < int(year):\n",
    "                    break\n",
    "                temp[date] = information['5. adjusted close']\n",
    "            timeseries[year][company] = temp\n",
    "        except KeyError as e:\n",
    "            pass\n",
    "            \n"
   ]
  },
  {
   "cell_type": "code",
   "execution_count": 91,
   "metadata": {},
   "outputs": [
    {
     "data": {
      "text/plain": [
       "{datetime.datetime(2020, 12, 21, 0, 0): '128.2300',\n",
       " datetime.datetime(2020, 11, 30, 0, 0): '119.0500',\n",
       " datetime.datetime(2020, 10, 30, 0, 0): '108.6723',\n",
       " datetime.datetime(2020, 9, 30, 0, 0): '115.6103',\n",
       " datetime.datetime(2020, 8, 31, 0, 0): '128.8175',\n",
       " datetime.datetime(2020, 7, 31, 0, 0): '105.8814',\n",
       " datetime.datetime(2020, 6, 30, 0, 0): '90.8751',\n",
       " datetime.datetime(2020, 5, 29, 0, 0): '79.2018',\n",
       " datetime.datetime(2020, 4, 30, 0, 0): '72.9953',\n",
       " datetime.datetime(2020, 3, 31, 0, 0): '63.1790',\n",
       " datetime.datetime(2020, 2, 28, 0, 0): '67.9170',\n",
       " datetime.datetime(2020, 1, 31, 0, 0): '76.7139'}"
      ]
     },
     "execution_count": 91,
     "metadata": {},
     "output_type": "execute_result"
    }
   ],
   "source": [
    "# Ted mame timeseries se vsemi akciemi sp500 za dany rok a mesicnimi adjusted cenami za akcii\n",
    "timeseries['2020']['AAPL']\n",
    "\n",
    "\n",
    "# A dal sme v haji, protoze ted bychom meli spocitat market cap, problem ale je ze k tomu potrebujeme shares outstanding,\n",
    "# ktere se casem meni... Da se to zjistit z https://www.alphavantage.co/documentation/#balance-sheet ale jenom 5 let nazpet"
   ]
  }
 ],
 "metadata": {
  "kernelspec": {
   "display_name": "Python 3",
   "language": "python",
   "name": "python3"
  },
  "language_info": {
   "codemirror_mode": {
    "name": "ipython",
    "version": 3
   },
   "file_extension": ".py",
   "mimetype": "text/x-python",
   "name": "python",
   "nbconvert_exporter": "python",
   "pygments_lexer": "ipython3",
   "version": "3.8.3"
  }
 },
 "nbformat": 4,
 "nbformat_minor": 4
}
