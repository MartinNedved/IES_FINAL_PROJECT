{
 "cells": [
  {
   "cell_type": "markdown",
   "metadata": {},
   "source": [
    "# DataProcessing\n",
    "\n",
    "DataMiner module provided us relatively clear datasets. Altough these datasets are from multiple websites and there needs to be done some additional clearing.\n",
    "\n",
    "This module generates 4 new files (clear_timeseries.json, clear_financials.json, clear_overview.json, clear_time_series_monthly_adjusted.json) which are sufficient for data interpretation."
   ]
  },
  {
   "cell_type": "code",
   "execution_count": 1,
   "metadata": {},
   "outputs": [],
   "source": [
    "import json\n",
    "import copy\n",
    "\n",
    "from datetime import datetime"
   ]
  },
  {
   "cell_type": "markdown",
   "metadata": {},
   "source": [
    "First we get historical constituents of indexes (SP500, NASDAQ, DJI)."
   ]
  },
  {
   "cell_type": "code",
   "execution_count": 5,
   "metadata": {},
   "outputs": [
    {
     "name": "stdout",
     "output_type": "stream",
     "text": [
      "['XEL', 'CTAS', 'EXC', 'ORLY', 'DLTR', 'ANSS', 'CSX', 'XLNX', 'CMCSA', 'MCHP', 'INCY', 'NXPI', 'SIRI', 'PEP', 'MXIM', 'CDNS', 'MNST', 'PAYX', 'TMUS', 'NTES', 'SPLK', 'SNPS', 'ADI', 'BIDU', 'REGN', 'COST', 'WBA', 'PYPL', 'GILD', 'KHC', 'FOX', 'LULU', 'VRSN', 'INTC', 'TXN', 'GOOG', 'ADP', 'CDW', 'FB', 'ILMN', 'AMD', 'ISRG', 'FOXA', 'CTSH', 'ALGN', 'CHTR', 'LRCX', 'CERN', 'CSCO', 'NFLX', 'MU', 'INTU', 'ADSK', 'VRSK', 'SGEN', 'FISV', 'BIIB', 'KLAC', 'AMAT', 'MSFT', 'AAPL', 'BKNG', 'MELI', 'ASML', 'WDAY', 'EA', 'SWKS', 'CPRT', 'TCOM', 'ADBE', 'EBAY', 'CHKP', 'TSLA', 'AMGN', 'VRTX', 'SBUX', 'ALXN', 'AMZN', 'IDXX', 'MDLZ', 'MAR', 'QCOM', 'ATVI', 'JD', 'ROST', 'FAST', 'NVDA', 'AVGO', 'PCAR', 'GOOGL', 'BMRN', 'CTXS', 'EXPE', 'LBTYK', 'LBTYA', 'TTWO', 'ULTA', 'WDC', 'NTAP', 'CSGP', 'UAL', 'WLTW', 'AAL']\n"
     ]
    }
   ],
   "source": [
    "with open('constituents.json', 'r') as f, \\\n",
    "    open('hist_constituents.json', 'r') as f_hist:\n",
    "        constituents = json.load(f)\n",
    "        hist_changes = json.load(f_hist)\n",
    "\n",
    "def remove_blacklist_symbols(timeseries, blacklist):\n",
    "    for year, symbols in timeseries.items():\n",
    "        for symbol in symbols:\n",
    "            if symbol in blacklist:\n",
    "                timeseries[year].remove(symbol)\n",
    "    return timeseries\n",
    "        \n",
    "def get_historical_constituents(index, constituents, hist_changes):\n",
    "    for i in constituents:\n",
    "        if i['symbol'] == index:\n",
    "            constit = i['constituents']\n",
    "            \n",
    "    for i in hist_changes:\n",
    "        if i['symbol'] == index:\n",
    "            changes = i['historicalConstituents']\n",
    "    \n",
    "    timeseries = {}\n",
    "    # Maps symbols which for some reason are or are not in index even though they should be\n",
    "    blacklist = []\n",
    "    \n",
    "    timeseries[datetime.strptime(changes[0]['date'], '%Y-%m-%d').year] = constit\n",
    "    \n",
    "    for change in changes:\n",
    "        year = datetime.strptime(change['date'], '%Y-%m-%d').year\n",
    "        if year < 2000:\n",
    "            break\n",
    "            \n",
    "        temp_year = year    \n",
    "        default_val = None\n",
    "        while default_val == None:\n",
    "            default_val = copy.deepcopy(timeseries.get(temp_year))\n",
    "            temp_year += 1\n",
    "            \n",
    "        timeseries[year] = timeseries.get(year, default_val)\n",
    "        symbol_change = change['symbol']\n",
    "        if change['action'] == 'add':\n",
    "            if symbol_change not in timeseries[year]:\n",
    "                blacklist.append(symbol_change)\n",
    "            else:\n",
    "                timeseries[year].remove(symbol_change)\n",
    "        else:\n",
    "            if symbol_change in timeseries[year]:\n",
    "                blacklist.append(symbol_change)\n",
    "            else:\n",
    "                timeseries[year].append(symbol_change)\n",
    "                \n",
    "    remove_blacklist_symbols(timeseries, blacklist)\n",
    "    return timeseries\n",
    "    \n",
    "timeseries_all_indexes = {\"^GSPC\": get_historical_constituents(\"^GSPC\", constituents, hist_changes),\n",
    "              \"^NDX\": get_historical_constituents(\"^NDX\", constituents, hist_changes),\n",
    "              \"^DJI\": get_historical_constituents(\"^DJI\", constituents, hist_changes)}\n",
    "print(timeseries_all_indexes[\"^NDX\"][2020])"
   ]
  },
  {
   "cell_type": "markdown",
   "metadata": {},
   "source": [
    "Now we will clear our data from symbols that could not be obtained via API."
   ]
  },
  {
   "cell_type": "code",
   "execution_count": 37,
   "metadata": {
    "scrolled": false
   },
   "outputs": [],
   "source": [
    "with open('fail_financials.json', 'r') as f_fin, \\\n",
    "    open('fail_overview.json', 'r') as f_overview, \\\n",
    "    open('fail_time_series_monthly_adjusted.json', 'r') as f_monthly:\n",
    "    blacklist = []\n",
    "    blacklist.extend(json.load(f_fin))\n",
    "    blacklist.extend(json.load(f_overview))\n",
    "    blacklist.extend(json.load(f_monthly))\n",
    "    \n",
    "for timeseries in timeseries_all_indexes.values():\n",
    "    remove_blacklist_symbols(timeseries, blacklist)\n",
    "    \n",
    "with open('clear_timeseries.json', 'w') as f:\n",
    "    json.dump(timeseries_all_indexes, f)"
   ]
  },
  {
   "cell_type": "markdown",
   "metadata": {},
   "source": [
    "After this we have clear historical timeseries of indexes constituents saved in clear_timeseries.json\n",
    "\n",
    "Now we will modify financials.json, overview.json, time_series_monthly_adjusted.json so that company data are accessed by its ticker. Also in time_series_monthly_adjusted.json file we will only save adjusted close price and date"
   ]
  },
  {
   "cell_type": "code",
   "execution_count": 7,
   "metadata": {},
   "outputs": [],
   "source": [
    "with open('financials.json', 'r') as f:\n",
    "    financials = json.load(f)\n",
    "\n",
    "clear_financials = {}\n",
    "for company in financials:\n",
    "    try:\n",
    "        ticker = company['results'][0]['ticker']\n",
    "        clear_financials[ticker] = company['results']\n",
    "    except IndexError:\n",
    "        pass\n",
    "      \n",
    "with open('clear_financials.json', 'w') as f:\n",
    "    json.dump(clear_financials, f)"
   ]
  },
  {
   "cell_type": "code",
   "execution_count": 8,
   "metadata": {},
   "outputs": [
    {
     "data": {
      "text/plain": [
       "{'ticker': 'IBM',\n",
       " 'period': 'Y',\n",
       " 'calendarDate': '2019-12-31',\n",
       " 'reportPeriod': '2019-12-31',\n",
       " 'updated': '2020-04-28',\n",
       " 'dateKey': '2020-02-25',\n",
       " 'accumulatedOtherComprehensiveIncome': -28597000000,\n",
       " 'assets': 152186000000,\n",
       " 'assetsAverage': 146846000000,\n",
       " 'assetsCurrent': 38420000000,\n",
       " 'assetsNonCurrent': 113766000000,\n",
       " 'assetTurnover': 0.525,\n",
       " 'bookValuePerShare': 23.49,\n",
       " 'capitalExpenditure': -2370000000,\n",
       " 'cashAndEquivalents': 8313000000,\n",
       " 'cashAndEquivalentsUSD': 8313000000,\n",
       " 'costOfRevenue': 40659000000,\n",
       " 'consolidatedIncome': 9431000000,\n",
       " 'currentRatio': 1.019,\n",
       " 'debtToEquityRatio': 6.295,\n",
       " 'debt': 68158000000,\n",
       " 'debtCurrent': 10177000000,\n",
       " 'debtNonCurrent': 57981000000,\n",
       " 'debtUSD': 68158000000,\n",
       " 'deferredRevenue': 15877000000,\n",
       " 'depreciationAmortizationAndAccretion': 6059000000,\n",
       " 'deposits': 0,\n",
       " 'dividendYield': 0.046,\n",
       " 'dividendsPerBasicCommonShare': 6.48,\n",
       " 'earningBeforeInterestTaxes': 11506000000,\n",
       " 'earningsBeforeInterestTaxesDepreciationAmortization': 17565000000,\n",
       " 'EBITDAMargin': 0.228,\n",
       " 'earningsBeforeInterestTaxesDepreciationAmortizationUSD': 17565000000,\n",
       " 'earningBeforeInterestTaxesUSD': 11506000000,\n",
       " 'earningsBeforeTax': 10162000000,\n",
       " 'earningsPerBasicShare': 10.63,\n",
       " 'earningsPerDilutedShare': 10.56,\n",
       " 'earningsPerBasicShareUSD': 10.63,\n",
       " 'shareholdersEquity': 20841000000,\n",
       " 'averageEquity': 18230750000,\n",
       " 'shareholdersEquityUSD': 20841000000,\n",
       " 'enterpriseValue': 185741300939,\n",
       " 'enterpriseValueOverEBIT': 16,\n",
       " 'enterpriseValueOverEBITDA': 10.575,\n",
       " 'freeCashFlow': 12400000000,\n",
       " 'freeCashFlowPerShare': 13.976,\n",
       " 'foreignCurrencyUSDExchangeRate': 1,\n",
       " 'grossProfit': 36488000000,\n",
       " 'grossMargin': 0.473,\n",
       " 'goodwillAndIntangibleAssets': 73457000000,\n",
       " 'interestExpense': 1344000000,\n",
       " 'investedCapital': 100873000000,\n",
       " 'investedCapitalAverage': 100154500000,\n",
       " 'inventory': 1619000000,\n",
       " 'investments': 2770000000,\n",
       " 'investmentsCurrent': 696000000,\n",
       " 'investmentsNonCurrent': 2074000000,\n",
       " 'totalLiabilities': 131202000000,\n",
       " 'currentLiabilities': 37701000000,\n",
       " 'liabilitiesNonCurrent': 93501000000,\n",
       " 'marketCapitalization': 125896300939,\n",
       " 'netCashFlow': -3290000000,\n",
       " 'netCashFlowBusinessAcquisitionsDisposals': -31554000000,\n",
       " 'issuanceEquityShares': -1361000000,\n",
       " 'issuanceDebtSecurities': 16284000000,\n",
       " 'paymentDividendsOtherCashDistributions': -5707000000,\n",
       " 'netCashFlowFromFinancing': 9042000000,\n",
       " 'netCashFlowFromInvesting': -26936000000,\n",
       " 'netCashFlowInvestmentAcquisitionsDisposals': 6988000000,\n",
       " 'netCashFlowFromOperations': 14770000000,\n",
       " 'effectOfExchangeRateChangesOnCash': -167000000,\n",
       " 'netIncome': 9431000000,\n",
       " 'netIncomeCommonStock': 9431000000,\n",
       " 'netIncomeCommonStockUSD': 9431000000,\n",
       " 'netLossIncomeFromDiscontinuedOperations': 4000000,\n",
       " 'netIncomeToNonControllingInterests': 0,\n",
       " 'profitMargin': 0.122,\n",
       " 'operatingExpenses': 24977000000,\n",
       " 'operatingIncome': 11511000000,\n",
       " 'tradeAndNonTradePayables': 4896000000,\n",
       " 'payoutRatio': 0.61,\n",
       " 'priceToBookValue': 6.041,\n",
       " 'priceEarnings': 13.349,\n",
       " 'priceToEarningsRatio': 13.331,\n",
       " 'propertyPlantEquipmentNet': 15006000000,\n",
       " 'preferredDividendsIncomeStatementImpact': 0,\n",
       " 'sharePriceAdjustedClose': 141.71,\n",
       " 'priceSales': 1.632,\n",
       " 'priceToSalesRatio': 1.63,\n",
       " 'tradeAndNonTradeReceivables': 32507000000,\n",
       " 'accumulatedRetainedEarningsDeficit': 162954000000,\n",
       " 'revenues': 77147000000,\n",
       " 'revenuesUSD': 77147000000,\n",
       " 'researchAndDevelopmentExpense': 5989000000,\n",
       " 'returnOnAverageAssets': 0.064,\n",
       " 'returnOnAverageEquity': 0.517,\n",
       " 'returnOnInvestedCapital': 0.115,\n",
       " 'returnOnSales': 0.149,\n",
       " 'shareBasedCompensation': 679000000,\n",
       " 'sellingGeneralAndAdministrativeExpense': 20604000000,\n",
       " 'shareFactor': 1,\n",
       " 'shares': 888408023,\n",
       " 'weightedAverageShares': 887235105,\n",
       " 'weightedAverageSharesDiluted': 892813376,\n",
       " 'salesPerShare': 86.952,\n",
       " 'tangibleAssetValue': 78729000000,\n",
       " 'taxAssets': 5182000000,\n",
       " 'incomeTaxExpense': 731000000,\n",
       " 'taxLiabilities': 2839000000,\n",
       " 'tangibleAssetsBookValuePerShare': 88.735,\n",
       " 'workingCapital': 719000000}"
      ]
     },
     "execution_count": 8,
     "metadata": {},
     "output_type": "execute_result"
    }
   ],
   "source": [
    "clear_financials['IBM'][0]"
   ]
  },
  {
   "cell_type": "code",
   "execution_count": 24,
   "metadata": {},
   "outputs": [],
   "source": [
    "with open('overview.json', 'r') as f:\n",
    "    overview = json.load(f)\n",
    "\n",
    "clear_overview = {}\n",
    "for company in overview:\n",
    "    try:\n",
    "        ticker = company['Symbol']\n",
    "        clear_overview[ticker] = company\n",
    "    except KeyError:\n",
    "        pass \n",
    "    \n",
    "with open('clear_overview.json', 'w') as f:\n",
    "    json.dump(clear_overview, f)"
   ]
  },
  {
   "cell_type": "code",
   "execution_count": 33,
   "metadata": {},
   "outputs": [
    {
     "data": {
      "text/plain": [
       "{'Symbol': 'IBM',\n",
       " 'AssetType': 'Common Stock',\n",
       " 'Name': 'International Business Machines Corporation',\n",
       " 'Description': \"International Business Machines Corporation provides integrated solutions and services worldwide. Its Cloud & Cognitive Software segment offers software for vertical and domain-specific solutions in health, financial services, and Internet of Things (IoT), weather, and security software and services application areas; and customer information control system and storage, and analytics and integration software solutions to support client mission critical on-premise workloads in banking, airline, and retail industries. It also offers middleware and data platform software, including Red Hat that enables the operation of clients' hybrid multi-cloud environments; and Cloud Paks, WebSphere distributed, and analytics platform software, such as DB2 distributed, information integration, and enterprise content management, as well as IoT, Blockchain and AI/Watson platforms. The company's Global Business Services segment offers business consulting services; system integration, application management, maintenance, and support services for packaged software; finance, procurement, talent and engagement, and industry-specific business process outsourcing services; and IT infrastructure and platform services. Its Global Technology Services segment provides project, managed, outsourcing, and cloud-delivered services for enterprise IT infrastructure environments; and IT infrastructure support services. The company's Systems segment offers servers for businesses, cloud service providers, and scientific computing organizations; data storage products and solutions; and z/OS, an enterprise operating system, as well as Linux. Its Global Financing segment provides lease, installment payment, loan financing, short-term working capital financing, and remanufacturing and remarketing services. The company was formerly known as Computing-Tabulating-Recording Co. The company was founded in 1911 and is headquartered in Armonk, New York.\",\n",
       " 'Exchange': 'NYSE',\n",
       " 'Currency': 'USD',\n",
       " 'Country': 'USA',\n",
       " 'Sector': 'Technology',\n",
       " 'Industry': 'Information Technology Services',\n",
       " 'Address': 'One New Orchard Road, Armonk, NY, United States, 10504',\n",
       " 'FullTimeEmployees': '0',\n",
       " 'FiscalYearEnd': 'December',\n",
       " 'LatestQuarter': '2020-12-31',\n",
       " 'MarketCapitalization': '107408015360',\n",
       " 'EBITDA': '13509000192',\n",
       " 'PERatio': '19.3514',\n",
       " 'PEGRatio': '1.2441',\n",
       " 'BookValue': '23.075',\n",
       " 'DividendPerShare': '6.52',\n",
       " 'DividendYield': '0.0547',\n",
       " 'EPS': '6.229',\n",
       " 'RevenuePerShareTTM': '82.691',\n",
       " 'ProfitMargin': '0.0759',\n",
       " 'OperatingMarginTTM': '0.0926',\n",
       " 'ReturnOnAssetsTTM': '0.0276',\n",
       " 'ReturnOnEquityTTM': '0.2638',\n",
       " 'RevenueTTM': '73619996672',\n",
       " 'GrossProfitTTM': '35575000000',\n",
       " 'DilutedEPSTTM': '6.229',\n",
       " 'QuarterlyEarningsGrowthYOY': '-0.632',\n",
       " 'QuarterlyRevenueGrowthYOY': '-0.065',\n",
       " 'AnalystTargetPrice': '137',\n",
       " 'TrailingPE': '19.3514',\n",
       " 'ForwardPE': '10.929',\n",
       " 'PriceToSalesRatioTTM': '1.468',\n",
       " 'PriceToBookRatio': '5.2147',\n",
       " 'EVToRevenue': '2.1742',\n",
       " 'EVToEBITDA': '12.6834',\n",
       " 'Beta': '1.2416',\n",
       " '52WeekHigh': '150.8394',\n",
       " '52WeekLow': '86.9458',\n",
       " '50DayMovingAverage': '125.3716',\n",
       " '200DayMovingAverage': '122.7661',\n",
       " 'SharesOutstanding': '891057024',\n",
       " 'SharesFloat': '891011172',\n",
       " 'SharesShort': '26222888',\n",
       " 'SharesShortPriorMonth': '22915875',\n",
       " 'ShortRatio': '5.39',\n",
       " 'ShortPercentOutstanding': '0.03',\n",
       " 'ShortPercentFloat': '0.0295',\n",
       " 'PercentInsiders': '0.128',\n",
       " 'PercentInstitutions': '58.584',\n",
       " 'ForwardAnnualDividendRate': '6.52',\n",
       " 'ForwardAnnualDividendYield': '0.0547',\n",
       " 'PayoutRatio': '0.752',\n",
       " 'DividendDate': '2020-12-10',\n",
       " 'ExDividendDate': '2021-02-09',\n",
       " 'LastSplitFactor': '2:1',\n",
       " 'LastSplitDate': '1999-05-27'}"
      ]
     },
     "execution_count": 33,
     "metadata": {},
     "output_type": "execute_result"
    }
   ],
   "source": [
    "clear_overview['IBM']"
   ]
  },
  {
   "cell_type": "code",
   "execution_count": 9,
   "metadata": {},
   "outputs": [],
   "source": [
    "with open('time_series_monthly_adjusted.json', 'r') as f:\n",
    "    time_series_monthly_adjusted = json.load(f)\n",
    "\n",
    "clear_time_series_monthly_adjusted = {}\n",
    "for company in time_series_monthly_adjusted:\n",
    "    try:\n",
    "        ticker = company['Meta Data']['2. Symbol']\n",
    "        temp_dict = {}\n",
    "        for date, price in company['Monthly Adjusted Time Series'].items():\n",
    "            temp_dict[date] = price['5. adjusted close']\n",
    "        clear_time_series_monthly_adjusted[ticker] = temp_dict\n",
    "    except KeyError:\n",
    "        pass \n",
    "    \n",
    "with open('clear_time_series_monthly_adjusted.json', 'w') as f:\n",
    "    json.dump(clear_time_series_monthly_adjusted, f)"
   ]
  },
  {
   "cell_type": "code",
   "execution_count": 13,
   "metadata": {},
   "outputs": [
    {
     "data": {
      "text/plain": [
       "'125.8800'"
      ]
     },
     "execution_count": 13,
     "metadata": {},
     "output_type": "execute_result"
    }
   ],
   "source": [
    "clear_time_series_monthly_adjusted['IBM']['2020-12-31']"
   ]
  }
 ],
 "metadata": {
  "kernelspec": {
   "display_name": "Python 3",
   "language": "python",
   "name": "python3"
  },
  "language_info": {
   "codemirror_mode": {
    "name": "ipython",
    "version": 3
   },
   "file_extension": ".py",
   "mimetype": "text/x-python",
   "name": "python",
   "nbconvert_exporter": "python",
   "pygments_lexer": "ipython3",
   "version": "3.8.3"
  }
 },
 "nbformat": 4,
 "nbformat_minor": 4
}
